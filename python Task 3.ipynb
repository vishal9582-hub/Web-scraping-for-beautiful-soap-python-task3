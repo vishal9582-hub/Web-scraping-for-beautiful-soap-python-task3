{
 "cells": [
  {
   "cell_type": "code",
   "execution_count": 1,
   "id": "05322cf3-8fd9-43d6-9ff8-d05a3a8f8c07",
   "metadata": {},
   "outputs": [],
   "source": [
    "import requests\n",
    "from bs4 import BeautifulSoup"
   ]
  },
  {
   "cell_type": "code",
   "execution_count": 2,
   "id": "7415a04c-1265-4f65-9e36-e98df75a9c42",
   "metadata": {},
   "outputs": [],
   "source": [
    "url = 'https://www.w3schools.com/html/html_intro.asp'"
   ]
  },
  {
   "cell_type": "code",
   "execution_count": 3,
   "id": "dd8c5018-b040-4b5e-8af0-a85ce68bc661",
   "metadata": {},
   "outputs": [],
   "source": [
    "# Send a GET request to the web page\n",
    "response = requests.get(url)"
   ]
  },
  {
   "cell_type": "code",
   "execution_count": 4,
   "id": "2b9f70f0-553a-498b-a61a-8948759706ca",
   "metadata": {},
   "outputs": [
    {
     "name": "stdout",
     "output_type": "stream",
     "text": [
      "Successfully retrieved the web page!\n"
     ]
    }
   ],
   "source": [
    "# Check if the request was successful\n",
    "if response.status_code == 200:\n",
    "    print(\"Successfully retrieved the web page!\")\n",
    "else:\n",
    "    print(f'Failed to retrieve the web page. Status code: {response.status_code}')"
   ]
  },
  {
   "cell_type": "code",
   "execution_count": 5,
   "id": "e49e0afb-3fa4-4272-8625-11795f0293d9",
   "metadata": {},
   "outputs": [],
   "source": [
    "if response.status_code == 200:\n",
    "    # Parse the content of the page\n",
    "    soup = BeautifulSoup(response.content, 'html.parser')"
   ]
  },
  {
   "cell_type": "code",
   "execution_count": 7,
   "id": "62811b6a-9901-499a-a8f4-2b4269c9f407",
   "metadata": {},
   "outputs": [
    {
     "name": "stdout",
     "output_type": "stream",
     "text": [
      "Text Content:\n"
     ]
    },
    {
     "data": {
      "text/plain": [
       "'\\n\\n\\n\\nIntroduction to HTML\\n\\n\\n\\n\\n\\n\\n\\n\\n\\n\\n\\n\\n\\n\\n\\n\\n\\n\\n\\n\\n\\n\\n\\n\\n\\n\\n\\n\\n\\n\\n\\n\\n\\n\\n\\n\\n\\n\\n\\n\\n\\n\\n\\n\\n\\n\\n\\n\\n\\n\\n\\n\\n        Tutorials\\n        \\n\\n\\n\\n        Exercises\\n        \\n\\n\\n\\n        Certificates\\n        \\n\\n\\n\\n        Services\\n        \\n\\n\\n\\n\\n      Menu\\n      \\n\\n\\n\\n\\n\\n          Search field\\n        \\n\\n\\n\\n\\n\\n\\n\\n\\n\\n\\n\\n\\n\\n\\n×\\n\\n\\n\\n\\n\\n\\ue80b\\n\\n\\n\\n\\n\\n        Log in\\n      \\n\\n        Sign Up\\n      \\n\\n\\n\\n\\n\\n\\n\\n\\n\\n\\n\\n★\\n+1\\n\\n\\n        My W3Schools\\n      \\n\\n\\n\\n\\n\\n\\n        Get Certified\\n      \\n\\n\\n\\n\\n        Spaces\\n      \\n\\n\\n\\n\\n\\n\\n        Plus\\n      \\n\\n\\n\\n\\n\\n\\n        Get Certified\\n      \\n\\n\\n\\n\\n        Spaces\\n      \\n\\n\\n\\n\\n\\n\\n        Plus\\n      \\n\\n\\n\\n\\n\\n\\nMy W3Schools\\n\\n\\n\\nTutorials\\n\\n\\n\\n          \\xa0\\n        \\n\\n\\n\\nExercises\\n\\n\\n\\n          \\xa0\\n        \\n\\n\\n\\nCertificates\\n\\n\\n\\n          \\xa0\\n        \\n\\n\\n\\nServices\\n\\n\\n\\n          \\xa0\\n        \\n\\n\\nSpaces\\n\\n\\n\\n\\n\\nGet Certified\\n\\n\\n\\n\\n\\nPlus\\n\\n\\n\\n\\n\\n\\n\\nLogout\\n\\n\\n\\n\\n\\n\\n\\n            \\uf30c\\n          \\n\\n\\n\\n            \\ue807\\n          \\n\\n\\n\\n            \\ue806\\n          \\n\\n\\n\\n            \\uf16d\\n          \\n\\n\\n\\n\\n×\\n\\n\\n\\n\\n\\n\\n\\n\\n\\nTutorials\\n\\n\\n\\n\\n                    Tutorials filter input\\n                  \\n\\n\\n×\\n\\n\\n\\n\\n\\n\\n\\n            '"
      ]
     },
     "execution_count": 7,
     "metadata": {},
     "output_type": "execute_result"
    }
   ],
   "source": [
    " # Extract and display text content\n",
    "print(\"Text Content:\")\n",
    "text_content = soup.get_text()\n",
    "text_content[:1000]  # Displaying the first 1000 characters in the notebook"
   ]
  },
  {
   "cell_type": "code",
   "execution_count": 10,
   "id": "c97728e0-899e-4ba0-bbcf-bc0962810060",
   "metadata": {},
   "outputs": [
    {
     "name": "stdout",
     "output_type": "stream",
     "text": [
      "\n",
      "Links:\n"
     ]
    }
   ],
   "source": [
    "# Extract and display all links\n",
    "print(\"\\nLinks:\")\n",
    "links = soup.find_all('a')\n",
    "link_list = []\n",
    "for idx, link in enumerate(links):\n",
    "    href = link.get('href')\n",
    "    text = link.get_text()\n",
    "    link_list.append(f'Link {idx + 1}: Text: {text}, URL: {href}')\n",
    "    link_list  # Displaying the list of links in the notebook\n",
    "     "
   ]
  },
  {
   "cell_type": "code",
   "execution_count": 14,
   "id": "c5edb949-aa16-4205-ae60-36bfe39e8bb4",
   "metadata": {},
   "outputs": [
    {
     "name": "stdout",
     "output_type": "stream",
     "text": [
      "\n",
      "Images:\n"
     ]
    }
   ],
   "source": [
    "# Extract and display all images\n",
    "print(\"\\nImages:\")\n",
    "    image_list = []\n",
    "    images = soup.find_all('img')\n",
    "    for idx, img in enumerate(images):\n",
    "        src = img.get('src')\n",
    "        alt = img.get('alt', 'No alt text')\n",
    "        image_list.append(f'Image {idx + 1}: Source: {src}, Alt text: {alt}')\n",
    "    image_list  # Displaying the list of images in the notebook\n",
    "\n",
    "else:\n",
    "    print(f'Failed to retrieve the web page. Status code: {response.status_code}')  "
   ]
  },
  {
   "cell_type": "code",
   "execution_count": null,
   "id": "44e8be06-689a-437c-86e9-f8158375c064",
   "metadata": {},
   "outputs": [],
   "source": []
  },
  {
   "cell_type": "code",
   "execution_count": null,
   "id": "8caaee34-6f9b-4196-9ac5-7607f33c6315",
   "metadata": {},
   "outputs": [],
   "source": []
  }
 ],
 "metadata": {
  "kernelspec": {
   "display_name": "Python 3 (ipykernel)",
   "language": "python",
   "name": "python3"
  },
  "language_info": {
   "codemirror_mode": {
    "name": "ipython",
    "version": 3
   },
   "file_extension": ".py",
   "mimetype": "text/x-python",
   "name": "python",
   "nbconvert_exporter": "python",
   "pygments_lexer": "ipython3",
   "version": "3.11.7"
  }
 },
 "nbformat": 4,
 "nbformat_minor": 5
}
